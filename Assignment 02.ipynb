{
 "cells": [
  {
   "cell_type": "markdown",
   "metadata": {},
   "source": [
    "# Task 1:"
   ]
  },
  {
   "cell_type": "markdown",
   "metadata": {},
   "source": [
    "### Q1.1"
   ]
  },
  {
   "cell_type": "code",
   "execution_count": 1,
   "metadata": {},
   "outputs": [
    {
     "name": "stdout",
     "output_type": "stream",
     "text": [
      "15\n"
     ]
    }
   ],
   "source": [
    "def myreduce(func,seq):\n",
    "    seq = [func(seq[:2])] + list(seq[2:])\n",
    "    if len(seq) == 1:\n",
    "        return seq[0]\n",
    "    else:\n",
    "        return myreduce(func,seq)\n",
    "res = myreduce(sum,(1,2,3,4,5))\n",
    "print(res)"
   ]
  },
  {
   "cell_type": "markdown",
   "metadata": {},
   "source": [
    "### Q1.2"
   ]
  },
  {
   "cell_type": "code",
   "execution_count": 2,
   "metadata": {},
   "outputs": [
    {
     "name": "stdout",
     "output_type": "stream",
     "text": [
      "('C', 'D', 'F', 'G')\n"
     ]
    }
   ],
   "source": [
    "def myfilter(func,seq):\n",
    "    return type(seq)([x for x in seq if func(x) == True])\n",
    "res = myfilter(lambda x:x.isupper(),('a','b','C','D','e','F','G','h'))\n",
    "print(res)"
   ]
  },
  {
   "cell_type": "markdown",
   "metadata": {},
   "source": [
    "### Q2"
   ]
  },
  {
   "cell_type": "code",
   "execution_count": 3,
   "metadata": {},
   "outputs": [
    {
     "name": "stdout",
     "output_type": "stream",
     "text": [
      "['x', 'xx', 'xxx', 'xxxx', 'y', 'yy', 'yyy', 'yyyy', 'z', 'zz', 'zzz', 'zzzz']\n",
      "\n",
      "['x', 'y', 'z', 'xx', 'yy', 'zz', 'xxx', 'yyy', 'zzz', 'xxxx', 'yyyy', 'zzzz']\n",
      "\n",
      "[[2], [3], [4], [3], [4], [5], [4], [5], [6]]\n",
      "\n",
      "[[2, 3, 4, 5], [3, 4, 5, 6], [4, 5, 6, 7], [5, 6, 7, 8]]\n",
      "\n",
      "[(1, 1), (2, 1), (3, 1), (1, 2), (2, 2), (3, 2), (1, 3), (2, 3), (3, 3)]\n",
      "\n"
     ]
    }
   ],
   "source": [
    "print([char*freq for char in ('x','y','z') for freq in range(1,5)],end=\"\\n\\n\")\n",
    "print([char*freq for freq in range(1,5) for char in ('x','y','z')],end=\"\\n\\n\")\n",
    "print([[x] for y in range(5,8) for x in range(y-3,y)],end=\"\\n\\n\")\n",
    "print([[x for x in range(y,y+4)] for y in range(2,6)],end=\"\\n\\n\")\n",
    "print([(x,y) for y in (1,2,3) for x in (1,2,3)],end=\"\\n\\n\")"
   ]
  },
  {
   "cell_type": "markdown",
   "metadata": {},
   "source": [
    "### Q3."
   ]
  },
  {
   "cell_type": "code",
   "execution_count": 4,
   "metadata": {},
   "outputs": [
    {
     "name": "stdout",
     "output_type": "stream",
     "text": [
      "Shrivastava\n"
     ]
    }
   ],
   "source": [
    "def longestWord(words):\n",
    "    length = 0\n",
    "    lword = ''\n",
    "    for word in words:\n",
    "        if len(word)>length:\n",
    "            lword = word\n",
    "            length = len(word)\n",
    "    return lword\n",
    "res = longestWord(['Hey','My','Name','Is','Saksham','Shrivastava'])\n",
    "print(res)"
   ]
  },
  {
   "cell_type": "markdown",
   "metadata": {},
   "source": [
    "# Task 2:"
   ]
  },
  {
   "cell_type": "markdown",
   "metadata": {},
   "source": [
    "### Q1.1"
   ]
  },
  {
   "cell_type": "code",
   "execution_count": 5,
   "metadata": {},
   "outputs": [
    {
     "name": "stdout",
     "output_type": "stream",
     "text": [
      "Enter the length of side of the triangles :\n",
      "12\n",
      "13\n",
      "14\n",
      "72.30793524918272\n"
     ]
    }
   ],
   "source": [
    "class Triangles():\n",
    "    def get_len(self):\n",
    "        self.s1 = int(input(\"Enter the length of side of the triangles :\\n\"))\n",
    "        self.s2 = int(input())\n",
    "        self.s3 = int(input())\n",
    "\n",
    "class Area(Triangles):\n",
    "    def calc_area(self):\n",
    "        self.get_len()\n",
    "        self.s = (self.s1+self.s2+self.s3)/2\n",
    "        return (self.s*(self.s-self.s1)*(self.s-self.s2)*(self.s-self.s3))**0.5\n",
    "\n",
    "area1 = Area()\n",
    "print(area1.calc_area())"
   ]
  },
  {
   "cell_type": "markdown",
   "metadata": {},
   "source": [
    "### Q1.2"
   ]
  },
  {
   "cell_type": "code",
   "execution_count": 6,
   "metadata": {},
   "outputs": [
    {
     "name": "stdout",
     "output_type": "stream",
     "text": [
      "['Saksham', 'Shrivastava']\n"
     ]
    }
   ],
   "source": [
    "def filter_long_words(words,n):\n",
    "    long_words=[]\n",
    "    for word in words:\n",
    "        if len(word) > n:\n",
    "            long_words += [word]\n",
    "    return long_words\n",
    "res = filter_long_words(['Hey','My','Name','Is','Saksham','Shrivastava'],4)\n",
    "print(res)"
   ]
  },
  {
   "cell_type": "markdown",
   "metadata": {},
   "source": [
    "### Q2.1"
   ]
  },
  {
   "cell_type": "code",
   "execution_count": 7,
   "metadata": {},
   "outputs": [
    {
     "name": "stdout",
     "output_type": "stream",
     "text": [
      "[3, 2, 4, 2, 7, 11]\n"
     ]
    }
   ],
   "source": [
    "def word_len(words):\n",
    "    length = []\n",
    "    for word in words:\n",
    "        length += [len(word)]\n",
    "    return length\n",
    "res = word_len(['Hey','My','Name','Is','Saksham','Shrivastava'])\n",
    "print(res)"
   ]
  },
  {
   "cell_type": "markdown",
   "metadata": {},
   "source": [
    "### Q2.2"
   ]
  },
  {
   "cell_type": "code",
   "execution_count": 8,
   "metadata": {},
   "outputs": [
    {
     "name": "stdout",
     "output_type": "stream",
     "text": [
      "True\n",
      "False\n"
     ]
    }
   ],
   "source": [
    "def check_vowel(ch):\n",
    "    if ch in ('a','e','i','o','u'):\n",
    "        return True\n",
    "    else:\n",
    "        return False\n",
    "print(check_vowel('a'))\n",
    "print(check_vowel('f'))"
   ]
  }
 ],
 "metadata": {
  "kernelspec": {
   "display_name": "Python 3",
   "language": "python",
   "name": "python3"
  },
  "language_info": {
   "codemirror_mode": {
    "name": "ipython",
    "version": 3
   },
   "file_extension": ".py",
   "mimetype": "text/x-python",
   "name": "python",
   "nbconvert_exporter": "python",
   "pygments_lexer": "ipython3",
   "version": "3.7.6"
  }
 },
 "nbformat": 4,
 "nbformat_minor": 4
}
